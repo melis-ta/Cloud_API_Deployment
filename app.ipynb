{
 "cells": [
  {
   "cell_type": "code",
   "execution_count": 1,
   "id": "25934b84",
   "metadata": {},
   "outputs": [],
   "source": [
    "#importing necessary libraries\n",
    "import pandas as pd\n",
    "import flask\n",
    "from flask import Flask, jsonify, request\n",
    "import pickle"
   ]
  },
  {
   "cell_type": "code",
   "execution_count": 2,
   "id": "8ac8b7ae",
   "metadata": {},
   "outputs": [],
   "source": [
    "#creating flask app\n",
    "app= Flask(__name__)"
   ]
  },
  {
   "cell_type": "code",
   "execution_count": 3,
   "id": "62a5cc58",
   "metadata": {},
   "outputs": [],
   "source": [
    "@app.route('/', methods=['GET', 'POST'])\n",
    "def home():\n",
    "    if (request.method=='GET'):\n",
    "        data= \"Enter your test results!\"\n",
    "        return jsonify({'data': data})"
   ]
  },
  {
   "cell_type": "code",
   "execution_count": 4,
   "id": "88ee37f8",
   "metadata": {},
   "outputs": [],
   "source": [
    "@app.route('/predict/', endpoint='Diabetes_prediction')\n",
    "def Diabetes_prediction():\n",
    "    model= pickle.load(open('model.pickle', 'rb'))\n",
    "    Pregnancies= request.args.get('Pregnancies')\n",
    "    Glucose=request.args.get('Glucose')\n",
    "    BloodPressure=request.args.get('BloodPressure')\n",
    "    SkinThickness=request.args.get('SkinThickness')\n",
    "    Insulin=request.args.get('Insulin')\n",
    "    BMI=request.args.get('BMI')\n",
    "    DiabetesPedigreeFunction=request.args.get('DiabetesPedigreeFunction')\n",
    "    Age=request.args.get('Age')\n",
    "    \n",
    "    test_df= pd.DataFrame({' Pregnancies': [Pregnancies], 'Glucose': [Glucose], \n",
    "                           'BloodPressure': [BloodPressure], 'SkinThickness': [SkinThickness], \n",
    "                           'Insulin': [Insulin], 'BMI': [BMI], \n",
    "                           'DiabetesPedigreeFunction': [DiabetesPedigreeFunction], 'Age': [Age]})\n",
    "    pred_diabetes= model.predict(test_df)\n",
    "    return jsonify({'Diabetes Predicted': str(pred_diabetes)})"
   ]
  },
  {
   "cell_type": "code",
   "execution_count": null,
   "id": "30c14b53",
   "metadata": {},
   "outputs": [
    {
     "name": "stdout",
     "output_type": "stream",
     "text": [
      " * Serving Flask app \"__main__\" (lazy loading)\n",
      " * Environment: production\n",
      "   WARNING: This is a development server. Do not use it in a production deployment.\n",
      "   Use a production WSGI server instead.\n",
      " * Debug mode: on\n"
     ]
    },
    {
     "name": "stderr",
     "output_type": "stream",
     "text": [
      " * Running on http://127.0.0.1:5000/ (Press CTRL+C to quit)\n",
      "127.0.0.1 - - [07/Jul/2021 12:17:55] \"\u001b[37mGET / HTTP/1.1\u001b[0m\" 200 -\n",
      "127.0.0.1 - - [07/Jul/2021 12:20:12] \"\u001b[35m\u001b[1mGET /predict/ HTTP/1.1\u001b[0m\" 500 -\n",
      "Traceback (most recent call last):\n",
      "  File \"C:\\Users\\hmeli\\anaconda3\\Lib\\site-packages\\flask\\app.py\", line 2464, in __call__\n",
      "    return self.wsgi_app(environ, start_response)\n",
      "  File \"C:\\Users\\hmeli\\anaconda3\\Lib\\site-packages\\flask\\app.py\", line 2450, in wsgi_app\n",
      "    response = self.handle_exception(e)\n",
      "  File \"C:\\Users\\hmeli\\anaconda3\\Lib\\site-packages\\flask\\app.py\", line 1867, in handle_exception\n",
      "    reraise(exc_type, exc_value, tb)\n",
      "  File \"C:\\Users\\hmeli\\anaconda3\\Lib\\site-packages\\flask\\_compat.py\", line 39, in reraise\n",
      "    raise value\n",
      "  File \"C:\\Users\\hmeli\\anaconda3\\Lib\\site-packages\\flask\\app.py\", line 2447, in wsgi_app\n",
      "    response = self.full_dispatch_request()\n",
      "  File \"C:\\Users\\hmeli\\anaconda3\\Lib\\site-packages\\flask\\app.py\", line 1952, in full_dispatch_request\n",
      "    rv = self.handle_user_exception(e)\n",
      "  File \"C:\\Users\\hmeli\\anaconda3\\Lib\\site-packages\\flask\\app.py\", line 1821, in handle_user_exception\n",
      "    reraise(exc_type, exc_value, tb)\n",
      "  File \"C:\\Users\\hmeli\\anaconda3\\Lib\\site-packages\\flask\\_compat.py\", line 39, in reraise\n",
      "    raise value\n",
      "  File \"C:\\Users\\hmeli\\anaconda3\\Lib\\site-packages\\flask\\app.py\", line 1950, in full_dispatch_request\n",
      "    rv = self.dispatch_request()\n",
      "  File \"C:\\Users\\hmeli\\anaconda3\\Lib\\site-packages\\flask\\app.py\", line 1936, in dispatch_request\n",
      "    return self.view_functions[rule.endpoint](**req.view_args)\n",
      "  File \"<ipython-input-4-b1c06ad05947>\", line 17, in Diabetes_prediction\n",
      "    \n",
      "  File \"C:\\Users\\hmeli\\anaconda3\\Lib\\site-packages\\sklearn\\linear_model\\_base.py\", line 309, in predict\n",
      "    scores = self.decision_function(X)\n",
      "  File \"C:\\Users\\hmeli\\anaconda3\\Lib\\site-packages\\sklearn\\linear_model\\_base.py\", line 284, in decision_function\n",
      "    X = check_array(X, accept_sparse='csr')\n",
      "  File \"C:\\Users\\hmeli\\anaconda3\\Lib\\site-packages\\sklearn\\utils\\validation.py\", line 63, in inner_f\n",
      "    return f(*args, **kwargs)\n",
      "  File \"C:\\Users\\hmeli\\anaconda3\\Lib\\site-packages\\sklearn\\utils\\validation.py\", line 663, in check_array\n",
      "    _assert_all_finite(array,\n",
      "  File \"C:\\Users\\hmeli\\anaconda3\\Lib\\site-packages\\sklearn\\utils\\validation.py\", line 103, in _assert_all_finite\n",
      "    raise ValueError(\n",
      "ValueError: Input contains NaN, infinity or a value too large for dtype('float64').\n",
      "127.0.0.1 - - [07/Jul/2021 12:22:56] \"\u001b[37mGET /predict/?Pregnancies=2&Glucose=65&BloodPressure=72&SkinThickness=2&Insulin=21&BMI=12&DiabetesPedigreeFunction=45&Age=65 HTTP/1.1\u001b[0m\" 200 -\n"
     ]
    }
   ],
   "source": [
    "if __name__=='__main__':\n",
    "    app.run(debug=True, use_reloader=False)"
   ]
  },
  {
   "cell_type": "code",
   "execution_count": null,
   "id": "99b317bb",
   "metadata": {},
   "outputs": [],
   "source": []
  }
 ],
 "metadata": {
  "kernelspec": {
   "display_name": "Python 3",
   "language": "python",
   "name": "python3"
  },
  "language_info": {
   "codemirror_mode": {
    "name": "ipython",
    "version": 3
   },
   "file_extension": ".py",
   "mimetype": "text/x-python",
   "name": "python",
   "nbconvert_exporter": "python",
   "pygments_lexer": "ipython3",
   "version": "3.8.8"
  }
 },
 "nbformat": 4,
 "nbformat_minor": 5
}
